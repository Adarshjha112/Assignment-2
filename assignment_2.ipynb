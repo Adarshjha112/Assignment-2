{
  "nbformat": 4,
  "nbformat_minor": 0,
  "metadata": {
    "kernelspec": {
      "display_name": "Python 3",
      "language": "python",
      "name": "python3"
    },
    "language_info": {
      "codemirror_mode": {
        "name": "ipython",
        "version": 3
      },
      "file_extension": ".py",
      "mimetype": "text/x-python",
      "name": "python",
      "nbconvert_exporter": "python",
      "pygments_lexer": "ipython3",
      "version": "3.7.3"
    },
    "colab": {
      "name": "assignment 2.ipynb",
      "provenance": [],
      "collapsed_sections": [],
      "toc_visible": true,
      "include_colab_link": true
    }
  },
  "cells": [
    {
      "cell_type": "markdown",
      "metadata": {
        "id": "view-in-github",
        "colab_type": "text"
      },
      "source": [
        "<a href=\"https://colab.research.google.com/github/Adarshjha112/Assignment-2/blob/master/assignment_2.ipynb\" target=\"_parent\"><img src=\"https://colab.research.google.com/assets/colab-badge.svg\" alt=\"Open In Colab\"/></a>"
      ]
    },
    {
      "cell_type": "markdown",
      "metadata": {
        "id": "v0pspKWooT4R",
        "colab_type": "text"
      },
      "source": [
        "## Week 2 assignment done by Adarsh Jha"
      ]
    },
    {
      "cell_type": "code",
      "metadata": {
        "id": "_L4DSVlWoT4X",
        "colab_type": "code",
        "colab": {}
      },
      "source": [
        "import numpy as np\n",
        "import matplotlib.image as mpimg\n",
        "import matplotlib.pyplot as plt\n",
        "import os\n",
        "import sys\n",
        "import cv2"
      ],
      "execution_count": 18,
      "outputs": []
    },
    {
      "cell_type": "code",
      "metadata": {
        "id": "kB6Jd0htoT4v",
        "colab_type": "code",
        "colab": {}
      },
      "source": [
        "def initBackground(initImage):\n",
        "    img_arr = cv2.imread(initImage)\n",
        "    mean = img_arr\n",
        "    variance = 9*np.ones(img_arr.shape)\n",
        "    return(mean,variance)"
      ],
      "execution_count": 19,
      "outputs": []
    },
    {
      "cell_type": "code",
      "metadata": {
        "id": "XLQ9w7VUoT5G",
        "colab_type": "code",
        "colab": {}
      },
      "source": [
        "def ForegroundDetection(img_file,mean,variance,lmda):\n",
        "    img = cv2.imread(img_file)\n",
        "    d = img-mean\n",
        "    y = variance*(lmda**2)\n",
        "    d_2 = np.square(d)\n",
        "    I = d_2 - y\n",
        "    mask = np.all(I>0,axis=2)\n",
        "    rI = 255*mask.astype(int)\n",
        "    rI = rI.astype(np.uint8)\n",
        "    return(rI)"
      ],
      "execution_count": 20,
      "outputs": []
    },
    {
      "cell_type": "code",
      "metadata": {
        "id": "vIHAzduyoT5X",
        "colab_type": "code",
        "colab": {}
      },
      "source": [
        "def Voting(rI,eta,m,n):\n",
        "    r,c = rI.shape\n",
        "    cI = np.zeros((rI.shape[0],rI.shape[1]))\n",
        "    for i in range(m,r-1-m):\n",
        "        for j in range(n,c-1-n):\n",
        "            img_patch = rI[i-m:i,j-n:j]\n",
        "            y_unq, counts = np.unique(img_patch,return_counts=True)\n",
        "            if len(counts)==1 and y_unq[0] == 1:\n",
        "                cI[i,j] = 255\n",
        "            if len(counts)>1:\n",
        "                if counts[1]>eta*m*n:\n",
        "                    cI[i,j]=255\n",
        "    cI = cI.astype(np.uint8)\n",
        "    return cI"
      ],
      "execution_count": 21,
      "outputs": []
    },
    {
      "cell_type": "code",
      "metadata": {
        "id": "E6nHRAjooT5m",
        "colab_type": "code",
        "colab": {}
      },
      "source": [
        "def meanvarUpdate(cI,img_path,M,V,alpha):\n",
        "    img = cv2.imread(img_path)\n",
        "    mean_upd = np.zeros(img.shape)\n",
        "    var_upd = np.zeros(img.shape)\n",
        "    d = img - M\n",
        "    d_2 = np.square(d)\n",
        "    for i in range(cI.shape[0]):\n",
        "        for j in range(cI.shape[1]):\n",
        "            if cI[i,j] == 0:\n",
        "                mean_upd[i,j,:] = (1-alpha)*M[i,j,:] + alpha*img[i,j,:]\n",
        "                var_upd[i,j,:] = (1-alpha)*(V[i,j,:] + alpha*d_2[i,j,:])\n",
        "                var_upd[i,j,:] = np.clip(var_upd[i,j,:],a_min=9,a_max=None)\n",
        "    return(mean_upd,var_upd)"
      ],
      "execution_count": 22,
      "outputs": []
    },
    {
      "cell_type": "code",
      "metadata": {
        "id": "sz8NTiINoT51",
        "colab_type": "code",
        "colab": {}
      },
      "source": [
        "def Background_Subtraction(img_dir,lmda,eta,m,n,alpha):\n",
        "    img_file_name = os.listdir(img_dir)\n",
        "    initImage = os.path.join(img_dir,img_file_name[0])\n",
        "    mean, variance = initBackground(initImage)\n",
        "    \n",
        "    for i in range(1,19):\n",
        "        img_path = os.path.join(img_dir,img_file_name[i])\n",
        "        \n",
        "        fix, ax = plt.subplots(1,3,figsize=(10,10))\n",
        "        rI = ForegroundDetection(img_path,mean,variance,lmda)\n",
        "        ax[0].imshow(rI,cmap=\"gray\")\n",
        "        \n",
        "        cI = Voting(rI,eta,m,n)\n",
        "        mean,variance = meanvarUpdate(cI,img_path,mean,variance,alpha)\n",
        "        ax[1].imshow(cI,cmap=\"gray\")\n",
        "        \n",
        "        img = cv2.imread(img_path)\n",
        "        ax[2].imshow(img,cmap=\"gray\")\n",
        "        \n",
        "        plt.show()\n",
        "    return(mean,variance)"
      ],
      "execution_count": 23,
      "outputs": []
    },
    {
      "cell_type": "code",
      "metadata": {
        "id": "nJr3b8oR65LS",
        "colab_type": "code",
        "colab": {
          "base_uri": "https://localhost:8080/",
          "height": 54
        },
        "outputId": "68f4ff59-7e2f-4cdc-9a06-5f5e9b4a3606"
      },
      "source": [
        "from google.colab import drive\n",
        "drive.mount('/content/drive')"
      ],
      "execution_count": 24,
      "outputs": [
        {
          "output_type": "stream",
          "text": [
            "Drive already mounted at /content/drive; to attempt to forcibly remount, call drive.mount(\"/content/drive\", force_remount=True).\n"
          ],
          "name": "stdout"
        }
      ]
    },
    {
      "cell_type": "code",
      "metadata": {
        "id": "Dit8CDPboT6F",
        "colab_type": "code",
        "colab": {}
      },
      "source": [
        "v = [i for i in np.arange(0.70,0.90,0.02)]\n",
        "t = [i for i in np.arange(0.70,0.90,0.02)]\n",
        "\n",
        "for eta in v:\n",
        "    for lmda in t:\n",
        "        print(\"Using lambda as {} and eta as {}\".format(lmda,eta))\n",
        "        mean,variance = Background_Subtraction(\"./Images\",lmda,eta,8,8,0.8)\n",
        "        print(\"\\n\")"
      ],
      "execution_count": null,
      "outputs": []
    }
  ]
}